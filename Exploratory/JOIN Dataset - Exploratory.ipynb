{
 "cells": [
  {
   "cell_type": "code",
   "execution_count": 1,
   "metadata": {},
   "outputs": [],
   "source": [
    "import pandas as pd\n",
    "import numpy as np"
   ]
  },
  {
   "cell_type": "code",
   "execution_count": 13,
   "metadata": {},
   "outputs": [],
   "source": [
    "url=\"https://raw.githubusercontent.com/nytimes/covid-19-data/master/us-counties.csv\"\n",
    "covidCounties = pd.read_csv(url, parse_dates=True, keep_default_na=False)"
   ]
  },
  {
   "cell_type": "code",
   "execution_count": 14,
   "metadata": {},
   "outputs": [],
   "source": [
    "covidCounties = covidCounties[covidCounties['state'] !='Puerto Rico']"
   ]
  },
  {
   "cell_type": "code",
   "execution_count": 15,
   "metadata": {},
   "outputs": [],
   "source": [
    "covidCounties['deaths'] = covidCounties['deaths'].str.strip().astype('float').astype('Int64')"
   ]
  },
  {
   "cell_type": "code",
   "execution_count": 16,
   "metadata": {
    "scrolled": false
   },
   "outputs": [],
   "source": [
    "covidCounties['date'] = pd.to_datetime(covidCounties['date'])\n",
    "covidCounties.loc[covidCounties['county'] == 'New York City', 'fips']  = '36061'"
   ]
  },
  {
   "cell_type": "code",
   "execution_count": 17,
   "metadata": {},
   "outputs": [
    {
     "data": {
      "text/html": [
       "<div>\n",
       "<style scoped>\n",
       "    .dataframe tbody tr th:only-of-type {\n",
       "        vertical-align: middle;\n",
       "    }\n",
       "\n",
       "    .dataframe tbody tr th {\n",
       "        vertical-align: top;\n",
       "    }\n",
       "\n",
       "    .dataframe thead th {\n",
       "        text-align: right;\n",
       "    }\n",
       "</style>\n",
       "<table border=\"1\" class=\"dataframe\">\n",
       "  <thead>\n",
       "    <tr style=\"text-align: right;\">\n",
       "      <th></th>\n",
       "      <th>date</th>\n",
       "      <th>county</th>\n",
       "      <th>state</th>\n",
       "      <th>fips</th>\n",
       "      <th>cases</th>\n",
       "      <th>deaths</th>\n",
       "    </tr>\n",
       "  </thead>\n",
       "  <tbody>\n",
       "    <tr>\n",
       "      <th>0</th>\n",
       "      <td>2020-01-21</td>\n",
       "      <td>Snohomish</td>\n",
       "      <td>Washington</td>\n",
       "      <td>53061</td>\n",
       "      <td>1</td>\n",
       "      <td>0</td>\n",
       "    </tr>\n",
       "    <tr>\n",
       "      <th>1</th>\n",
       "      <td>2020-01-22</td>\n",
       "      <td>Snohomish</td>\n",
       "      <td>Washington</td>\n",
       "      <td>53061</td>\n",
       "      <td>1</td>\n",
       "      <td>0</td>\n",
       "    </tr>\n",
       "    <tr>\n",
       "      <th>2</th>\n",
       "      <td>2020-01-23</td>\n",
       "      <td>Snohomish</td>\n",
       "      <td>Washington</td>\n",
       "      <td>53061</td>\n",
       "      <td>1</td>\n",
       "      <td>0</td>\n",
       "    </tr>\n",
       "    <tr>\n",
       "      <th>3</th>\n",
       "      <td>2020-01-24</td>\n",
       "      <td>Cook</td>\n",
       "      <td>Illinois</td>\n",
       "      <td>17031</td>\n",
       "      <td>1</td>\n",
       "      <td>0</td>\n",
       "    </tr>\n",
       "    <tr>\n",
       "      <th>4</th>\n",
       "      <td>2020-01-24</td>\n",
       "      <td>Snohomish</td>\n",
       "      <td>Washington</td>\n",
       "      <td>53061</td>\n",
       "      <td>1</td>\n",
       "      <td>0</td>\n",
       "    </tr>\n",
       "    <tr>\n",
       "      <th>...</th>\n",
       "      <td>...</td>\n",
       "      <td>...</td>\n",
       "      <td>...</td>\n",
       "      <td>...</td>\n",
       "      <td>...</td>\n",
       "      <td>...</td>\n",
       "    </tr>\n",
       "    <tr>\n",
       "      <th>1498302</th>\n",
       "      <td>2021-07-08</td>\n",
       "      <td>Sweetwater</td>\n",
       "      <td>Wyoming</td>\n",
       "      <td>56037</td>\n",
       "      <td>4820</td>\n",
       "      <td>40</td>\n",
       "    </tr>\n",
       "    <tr>\n",
       "      <th>1498303</th>\n",
       "      <td>2021-07-08</td>\n",
       "      <td>Teton</td>\n",
       "      <td>Wyoming</td>\n",
       "      <td>56039</td>\n",
       "      <td>3807</td>\n",
       "      <td>11</td>\n",
       "    </tr>\n",
       "    <tr>\n",
       "      <th>1498304</th>\n",
       "      <td>2021-07-08</td>\n",
       "      <td>Uinta</td>\n",
       "      <td>Wyoming</td>\n",
       "      <td>56041</td>\n",
       "      <td>2328</td>\n",
       "      <td>13</td>\n",
       "    </tr>\n",
       "    <tr>\n",
       "      <th>1498305</th>\n",
       "      <td>2021-07-08</td>\n",
       "      <td>Washakie</td>\n",
       "      <td>Wyoming</td>\n",
       "      <td>56043</td>\n",
       "      <td>928</td>\n",
       "      <td>26</td>\n",
       "    </tr>\n",
       "    <tr>\n",
       "      <th>1498306</th>\n",
       "      <td>2021-07-08</td>\n",
       "      <td>Weston</td>\n",
       "      <td>Wyoming</td>\n",
       "      <td>56045</td>\n",
       "      <td>663</td>\n",
       "      <td>6</td>\n",
       "    </tr>\n",
       "  </tbody>\n",
       "</table>\n",
       "<p>1464321 rows × 6 columns</p>\n",
       "</div>"
      ],
      "text/plain": [
       "              date      county       state   fips  cases  deaths\n",
       "0       2020-01-21   Snohomish  Washington  53061      1       0\n",
       "1       2020-01-22   Snohomish  Washington  53061      1       0\n",
       "2       2020-01-23   Snohomish  Washington  53061      1       0\n",
       "3       2020-01-24        Cook    Illinois  17031      1       0\n",
       "4       2020-01-24   Snohomish  Washington  53061      1       0\n",
       "...            ...         ...         ...    ...    ...     ...\n",
       "1498302 2021-07-08  Sweetwater     Wyoming  56037   4820      40\n",
       "1498303 2021-07-08       Teton     Wyoming  56039   3807      11\n",
       "1498304 2021-07-08       Uinta     Wyoming  56041   2328      13\n",
       "1498305 2021-07-08    Washakie     Wyoming  56043    928      26\n",
       "1498306 2021-07-08      Weston     Wyoming  56045    663       6\n",
       "\n",
       "[1464321 rows x 6 columns]"
      ]
     },
     "execution_count": 17,
     "metadata": {},
     "output_type": "execute_result"
    }
   ],
   "source": [
    "covidCounties"
   ]
  },
  {
   "cell_type": "code",
   "execution_count": 39,
   "metadata": {},
   "outputs": [],
   "source": [
    "# Importing data\n",
    "url=\"https://www2.census.gov/programs-surveys/popest/datasets/2010-2019/counties/totals/co-est2019-alldata.csv\"\n",
    "countiesData = pd.read_csv(url, parse_dates=True, keep_default_na=False, encoding='ISO-8859-1')"
   ]
  },
  {
   "cell_type": "code",
   "execution_count": 40,
   "metadata": {},
   "outputs": [],
   "source": [
    "countiesData = countiesData[countiesData['SUMLEV'] == 50][['SUMLEV','STATE','COUNTY','STNAME','CTYNAME','POPESTIMATE2019']]\n",
    "countiesData.rename(columns={\"POPESTIMATE2019\": \"population_2019\"},  inplace = True)"
   ]
  },
  {
   "cell_type": "code",
   "execution_count": 41,
   "metadata": {},
   "outputs": [],
   "source": [
    "countiesData['COUNTY'] = countiesData['COUNTY'].astype(str).str.zfill(3)\n",
    "countiesData['STATE'] = countiesData['STATE'].astype(str).str.zfill(2)"
   ]
  },
  {
   "cell_type": "code",
   "execution_count": 42,
   "metadata": {
    "scrolled": true
   },
   "outputs": [
    {
     "data": {
      "text/plain": [
       "SUMLEV              int64\n",
       "STATE              object\n",
       "COUNTY             object\n",
       "STNAME             object\n",
       "CTYNAME            object\n",
       "population_2019     int64\n",
       "fips               object\n",
       "dtype: object"
      ]
     },
     "execution_count": 42,
     "metadata": {},
     "output_type": "execute_result"
    }
   ],
   "source": [
    "countiesData['fips'] =  countiesData['STATE'] +  countiesData['COUNTY']\n",
    "countiesData.dtypes"
   ]
  },
  {
   "cell_type": "code",
   "execution_count": 43,
   "metadata": {
    "scrolled": true
   },
   "outputs": [],
   "source": [
    "joined = covidCounties.merge(countiesData, how='left', on='fips')\n",
    "joined['population_2019'] = joined['population_2019'].astype('Int64')\n",
    "joined['deaths'] = joined['deaths'].astype('Int64')"
   ]
  },
  {
   "cell_type": "code",
   "execution_count": 23,
   "metadata": {},
   "outputs": [
    {
     "data": {
      "text/html": [
       "<div>\n",
       "<style scoped>\n",
       "    .dataframe tbody tr th:only-of-type {\n",
       "        vertical-align: middle;\n",
       "    }\n",
       "\n",
       "    .dataframe tbody tr th {\n",
       "        vertical-align: top;\n",
       "    }\n",
       "\n",
       "    .dataframe thead th {\n",
       "        text-align: right;\n",
       "    }\n",
       "</style>\n",
       "<table border=\"1\" class=\"dataframe\">\n",
       "  <thead>\n",
       "    <tr style=\"text-align: right;\">\n",
       "      <th></th>\n",
       "      <th>county</th>\n",
       "      <th>CTYNAME</th>\n",
       "    </tr>\n",
       "  </thead>\n",
       "  <tbody>\n",
       "    <tr>\n",
       "      <th>418</th>\n",
       "      <td>Unknown County</td>\n",
       "      <td>NaN</td>\n",
       "    </tr>\n",
       "    <tr>\n",
       "      <th>5634</th>\n",
       "      <td>Kansas City County</td>\n",
       "      <td>NaN</td>\n",
       "    </tr>\n",
       "    <tr>\n",
       "      <th>37793</th>\n",
       "      <td>St. Croix County</td>\n",
       "      <td>NaN</td>\n",
       "    </tr>\n",
       "    <tr>\n",
       "      <th>37794</th>\n",
       "      <td>St. John County</td>\n",
       "      <td>NaN</td>\n",
       "    </tr>\n",
       "    <tr>\n",
       "      <th>37795</th>\n",
       "      <td>St. Thomas County</td>\n",
       "      <td>NaN</td>\n",
       "    </tr>\n",
       "    <tr>\n",
       "      <th>159131</th>\n",
       "      <td>Bristol Bay plus Lake and Peninsula County</td>\n",
       "      <td>NaN</td>\n",
       "    </tr>\n",
       "    <tr>\n",
       "      <th>268820</th>\n",
       "      <td>Joplin County</td>\n",
       "      <td>NaN</td>\n",
       "    </tr>\n",
       "    <tr>\n",
       "      <th>327916</th>\n",
       "      <td>Saipan County</td>\n",
       "      <td>NaN</td>\n",
       "    </tr>\n",
       "    <tr>\n",
       "      <th>327917</th>\n",
       "      <td>Tinian County</td>\n",
       "      <td>NaN</td>\n",
       "    </tr>\n",
       "    <tr>\n",
       "      <th>357201</th>\n",
       "      <td>Yakutat plus Hoonah-Angoon County</td>\n",
       "      <td>NaN</td>\n",
       "    </tr>\n",
       "  </tbody>\n",
       "</table>\n",
       "</div>"
      ],
      "text/plain": [
       "                                            county CTYNAME\n",
       "418                                 Unknown County     NaN\n",
       "5634                            Kansas City County     NaN\n",
       "37793                             St. Croix County     NaN\n",
       "37794                              St. John County     NaN\n",
       "37795                            St. Thomas County     NaN\n",
       "159131  Bristol Bay plus Lake and Peninsula County     NaN\n",
       "268820                               Joplin County     NaN\n",
       "327916                               Saipan County     NaN\n",
       "327917                               Tinian County     NaN\n",
       "357201           Yakutat plus Hoonah-Angoon County     NaN"
      ]
     },
     "execution_count": 23,
     "metadata": {},
     "output_type": "execute_result"
    }
   ],
   "source": [
    "cty = joined[['county','CTYNAME']].drop_duplicates()\n",
    "cty['county'] = cty['county'] + ' County' \n",
    "cty[cty['CTYNAME']  != cty['CTYNAME'] ]"
   ]
  },
  {
   "cell_type": "code",
   "execution_count": 24,
   "metadata": {},
   "outputs": [
    {
     "data": {
      "text/html": [
       "<div>\n",
       "<style scoped>\n",
       "    .dataframe tbody tr th:only-of-type {\n",
       "        vertical-align: middle;\n",
       "    }\n",
       "\n",
       "    .dataframe tbody tr th {\n",
       "        vertical-align: top;\n",
       "    }\n",
       "\n",
       "    .dataframe thead th {\n",
       "        text-align: right;\n",
       "    }\n",
       "</style>\n",
       "<table border=\"1\" class=\"dataframe\">\n",
       "  <thead>\n",
       "    <tr style=\"text-align: right;\">\n",
       "      <th></th>\n",
       "      <th>county</th>\n",
       "      <th>state</th>\n",
       "      <th>CTYNAME</th>\n",
       "    </tr>\n",
       "  </thead>\n",
       "  <tbody>\n",
       "    <tr>\n",
       "      <th>418</th>\n",
       "      <td>Unknown County</td>\n",
       "      <td>Rhode Island</td>\n",
       "      <td>NaN</td>\n",
       "    </tr>\n",
       "    <tr>\n",
       "      <th>1511</th>\n",
       "      <td>Unknown County</td>\n",
       "      <td>New Jersey</td>\n",
       "      <td>NaN</td>\n",
       "    </tr>\n",
       "    <tr>\n",
       "      <th>2265</th>\n",
       "      <td>Unknown County</td>\n",
       "      <td>Virgin Islands</td>\n",
       "      <td>NaN</td>\n",
       "    </tr>\n",
       "    <tr>\n",
       "      <th>2420</th>\n",
       "      <td>Unknown County</td>\n",
       "      <td>Guam</td>\n",
       "      <td>NaN</td>\n",
       "    </tr>\n",
       "    <tr>\n",
       "      <th>2926</th>\n",
       "      <td>Unknown County</td>\n",
       "      <td>Maine</td>\n",
       "      <td>NaN</td>\n",
       "    </tr>\n",
       "    <tr>\n",
       "      <th>...</th>\n",
       "      <td>...</td>\n",
       "      <td>...</td>\n",
       "      <td>...</td>\n",
       "    </tr>\n",
       "    <tr>\n",
       "      <th>327917</th>\n",
       "      <td>Tinian County</td>\n",
       "      <td>Northern Mariana Islands</td>\n",
       "      <td>NaN</td>\n",
       "    </tr>\n",
       "    <tr>\n",
       "      <th>357201</th>\n",
       "      <td>Yakutat plus Hoonah-Angoon County</td>\n",
       "      <td>Alaska</td>\n",
       "      <td>NaN</td>\n",
       "    </tr>\n",
       "    <tr>\n",
       "      <th>400232</th>\n",
       "      <td>Unknown County</td>\n",
       "      <td>South Carolina</td>\n",
       "      <td>NaN</td>\n",
       "    </tr>\n",
       "    <tr>\n",
       "      <th>763450</th>\n",
       "      <td>Unknown County</td>\n",
       "      <td>Oregon</td>\n",
       "      <td>NaN</td>\n",
       "    </tr>\n",
       "    <tr>\n",
       "      <th>924670</th>\n",
       "      <td>Unknown County</td>\n",
       "      <td>North Carolina</td>\n",
       "      <td>NaN</td>\n",
       "    </tr>\n",
       "  </tbody>\n",
       "</table>\n",
       "<p>61 rows × 3 columns</p>\n",
       "</div>"
      ],
      "text/plain": [
       "                                   county                     state CTYNAME\n",
       "418                        Unknown County              Rhode Island     NaN\n",
       "1511                       Unknown County                New Jersey     NaN\n",
       "2265                       Unknown County            Virgin Islands     NaN\n",
       "2420                       Unknown County                      Guam     NaN\n",
       "2926                       Unknown County                     Maine     NaN\n",
       "...                                   ...                       ...     ...\n",
       "327917                      Tinian County  Northern Mariana Islands     NaN\n",
       "357201  Yakutat plus Hoonah-Angoon County                    Alaska     NaN\n",
       "400232                     Unknown County            South Carolina     NaN\n",
       "763450                     Unknown County                    Oregon     NaN\n",
       "924670                     Unknown County            North Carolina     NaN\n",
       "\n",
       "[61 rows x 3 columns]"
      ]
     },
     "execution_count": 24,
     "metadata": {},
     "output_type": "execute_result"
    }
   ],
   "source": [
    "cty = joined[['county','state','CTYNAME']].drop_duplicates()\n",
    "cty['county'] = cty['county'] + ' County' \n",
    "cty[cty['CTYNAME']  != cty['CTYNAME'] ]\n",
    "# 61 counties without population"
   ]
  },
  {
   "cell_type": "code",
   "execution_count": 45,
   "metadata": {},
   "outputs": [],
   "source": [
    "joined = joined[['date','fips','county','state','cases','deaths','population_2019']]\n",
    "joined.sort_values(['date']).reset_index(drop=True)\n",
    "joined[\"comulative_cases\"] = joined.groupby(['fips'])['cases'].cumsum(axis=0)\n",
    "joined[\"comulative_deaths\"] = joined.groupby(['fips'])['deaths'].cumsum(axis=0)"
   ]
  },
  {
   "cell_type": "code",
   "execution_count": 47,
   "metadata": {},
   "outputs": [
    {
     "data": {
      "text/plain": [
       "date                 datetime64[ns]\n",
       "fips                         object\n",
       "county                       object\n",
       "state                        object\n",
       "cases                         int64\n",
       "deaths                        Int64\n",
       "population_2019               Int64\n",
       "comulative_cases              int64\n",
       "comulative_deaths             Int64\n",
       "dtype: object"
      ]
     },
     "execution_count": 47,
     "metadata": {},
     "output_type": "execute_result"
    }
   ],
   "source": [
    "joined[\"comulative_deaths\"] =joined[\"comulative_deaths\"].astype('Int64')\n",
    "\n",
    "joined.dtypes"
   ]
  }
 ],
 "metadata": {
  "kernelspec": {
   "display_name": "Python 3",
   "language": "python",
   "name": "python3"
  },
  "language_info": {
   "codemirror_mode": {
    "name": "ipython",
    "version": 3
   },
   "file_extension": ".py",
   "mimetype": "text/x-python",
   "name": "python",
   "nbconvert_exporter": "python",
   "pygments_lexer": "ipython3",
   "version": "3.7.6"
  }
 },
 "nbformat": 4,
 "nbformat_minor": 4
}
